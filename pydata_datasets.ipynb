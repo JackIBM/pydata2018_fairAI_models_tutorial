{
 "cells": [
  {
   "cell_type": "markdown",
   "metadata": {},
   "source": [
    "# Datasets\n",
    "\n",
    "This notebook can be used to download several datasets from sources listed below.\n",
    "\n",
    "By using this notebook you acknowledge the responsibility for reading and abiding by any copyright/usage rules and restrictions as stated on the corresponding links.\n",
    "\n",
    "\n",
    "1. Adult / Census Income \n",
    "\n",
    "   Source: <a href=\"https://archive.ics.uci.edu/ml/datasets/adult\">https://archive.ics.uci.edu/ml/datasets/adult</a>\n",
    "\n",
    "2. German Credit Data \n",
    "\n",
    "   Source: <a href=\"https://archive.ics.uci.edu/ml/datasets/Statlog+%28German+Credit+Data%29\">https://archive.ics.uci.edu/ml/datasets/Statlog+%28German+Credit+Data%29</a>\n",
    "\n",
    "3. ProPublica Recidivism/COMPAS \n",
    "\n",
    "   Source: <a href=\"https://github.com/propublica/compas-analysis\">https://github.com/propublica/compas-analysis</a>\n",
    "\n",
    "4. Bank marketing \n",
    "\n",
    "   Source: <a href=\"https://archive.ics.uci.edu/ml/datasets/Bank+Marketing\">https://archive.ics.uci.edu/ml/datasets/Bank+Marketing</a>\n",
    "\n"
   ]
  },
  {
   "cell_type": "code",
   "execution_count": null,
   "metadata": {},
   "outputs": [],
   "source": [
    "import urllib.request # urllib for Python 2\n",
    "\n",
    "#ADULT\n",
    "urllib.request.urlretrieve (\"https://archive.ics.uci.edu/ml/machine-learning-databases/adult/adult.data\", \"../AIF360/aif360/data/raw/adult/adult.data\") #urllib.urlretrieve for Python 2\n",
    "\n",
    "urllib.request.urlretrieve (\"https://archive.ics.uci.edu/ml/machine-learning-databases/adult/adult.names\", \"../AIF360/aif360/data/raw/adult/adult.names\")\n",
    "urllib.request.urlretrieve (\"https://archive.ics.uci.edu/ml/machine-learning-databases/adult/adult.test\", \"../AIF360/aif360/data/raw/adult/adult.test\")\n",
    "\n",
    "#COMPAS\n",
    "urllib.request.urlretrieve (\"https://github.com/propublica/compas-analysis/blob/master/compas-scores-two-years.csv?raw=true\", \"../AIF360/aif360/data/raw/compas/compas-scores-two-years.csv\")\n",
    "\n",
    "#BANK\n",
    "urllib.request.urlretrieve (\"https://archive.ics.uci.edu/ml/machine-learning-databases/00222/bank-additional.zip\", \"../AIF360/aif360/data/raw/bank/bank-additional.zip\")\n",
    "\n",
    "#GERMAN\n",
    "urllib.request.urlretrieve (\"https://archive.ics.uci.edu/ml/machine-learning-databases/statlog/german/german.data\", \"../AIF360/aif360/data/raw/german/german.data\")\n",
    "urllib.request.urlretrieve (\"https://archive.ics.uci.edu/ml/machine-learning-databases/statlog/german/german.doc\", \"../AIF360/aif360/data/raw/german/german.doc\")\n",
    "\n"
   ]
  },
  {
   "cell_type": "code",
   "execution_count": null,
   "metadata": {},
   "outputs": [],
   "source": [
    "import zipfile  \n",
    "      \n",
    "zip = zipfile.ZipFile(r'../AIF360/aif360/data/raw/bank/bank-additional.zip')  \n",
    "zip.extractall(r'../AIF360/aif360/data/raw/bank/')  "
   ]
  },
  {
   "cell_type": "code",
   "execution_count": null,
   "metadata": {},
   "outputs": [],
   "source": [
    "from shutil import copyfile\n",
    "\n",
    "copyfile(r'../AIF360/aif360/data/raw/bank/bank-additional/bank-additional-full.csv', r'../AIF360/aif360/data/raw/bank/bank-additional-full.csv')"
   ]
  },
  {
   "cell_type": "code",
   "execution_count": null,
   "metadata": {},
   "outputs": [],
   "source": []
  }
 ],
 "metadata": {
  "kernelspec": {
   "display_name": "Python 3",
   "language": "python",
   "name": "python3"
  },
  "language_info": {
   "codemirror_mode": {
    "name": "ipython",
    "version": 3
   },
   "file_extension": ".py",
   "mimetype": "text/x-python",
   "name": "python",
   "nbconvert_exporter": "python",
   "pygments_lexer": "ipython3",
   "version": "3.5.6"
  }
 },
 "nbformat": 4,
 "nbformat_minor": 2
}
